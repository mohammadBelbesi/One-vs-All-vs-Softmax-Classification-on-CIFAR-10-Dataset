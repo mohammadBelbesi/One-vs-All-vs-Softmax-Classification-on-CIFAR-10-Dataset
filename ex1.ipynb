{
 "cells": [
  {
   "cell_type": "code",
   "execution_count": 1,
   "metadata": {},
   "outputs": [],
   "source": [
    "# Example notebook structure\n",
    "import numpy as np\n",
    "from sklearn.model_selection import train_test_split\n",
    "from sklearn.linear_model import LogisticRegression\n",
    "from sklearn.metrics import f1_score, confusion_matrix, accuracy_score, log_loss\n",
    "import time"
   ]
  },
  {
   "cell_type": "markdown",
   "metadata": {},
   "source": [
    "\n",
    "# Load data\n",
    "\n"
   ]
  },
  {
   "cell_type": "code",
   "execution_count": 2,
   "metadata": {},
   "outputs": [],
   "source": [
    "X = np.load('cifar10_features.npy')\n",
    "y = np.load('cifar10_labels.npy')\n"
   ]
  },
  {
   "cell_type": "markdown",
   "metadata": {},
   "source": [
    "\n",
    "# Split data\n",
    "\n",
    "\n"
   ]
  },
  {
   "cell_type": "code",
   "execution_count": 3,
   "metadata": {},
   "outputs": [],
   "source": [
    "X_train, X_test, y_train, y_test = train_test_split(X, y, test_size=0.3, random_state=42)"
   ]
  },
  {
   "cell_type": "markdown",
   "metadata": {},
   "source": [
    "# Softmax Logistic Regression\n"
   ]
  },
  {
   "cell_type": "code",
   "execution_count": 4,
   "metadata": {},
   "outputs": [
    {
     "name": "stderr",
     "output_type": "stream",
     "text": [
      "c:\\Python311\\Lib\\site-packages\\sklearn\\linear_model\\_logistic.py:1247: FutureWarning: 'multi_class' was deprecated in version 1.5 and will be removed in 1.7. From then on, it will always use 'multinomial'. Leave it to its default value to avoid this warning.\n",
      "  warnings.warn(\n"
     ]
    }
   ],
   "source": [
    "beginning_time = time.time()\n",
    "softmax = LogisticRegression(multi_class='multinomial', solver='lbfgs', max_iter=5000)\n",
    "softmax.fit(X_train, y_train)\n",
    "softmax_time = time.time() - beginning_time\n",
    "\n",
    "softmax_predictions = softmax.predict(X_test)\n",
    "softmax_accuracy = accuracy_score(y_test, softmax_predictions)\n",
    "softmax_f1 = f1_score(y_test, softmax_predictions, average='weighted')\n",
    "softmax_log_loss = log_loss(y_test, softmax.predict_proba(X_test))\n",
    "\n"
   ]
  },
  {
   "cell_type": "markdown",
   "metadata": {},
   "source": [
    "\n",
    "# One-vs-all Logistic Regression\n",
    "\n"
   ]
  },
  {
   "cell_type": "code",
   "execution_count": 5,
   "metadata": {},
   "outputs": [
    {
     "name": "stderr",
     "output_type": "stream",
     "text": [
      "c:\\Python311\\Lib\\site-packages\\sklearn\\linear_model\\_logistic.py:1256: FutureWarning: 'multi_class' was deprecated in version 1.5 and will be removed in 1.7. Use OneVsRestClassifier(LogisticRegression(..)) instead. Leave it to its default value to avoid this warning.\n",
      "  warnings.warn(\n"
     ]
    }
   ],
   "source": [
    "beginning_time = time.time()\n",
    "oneVsAll = LogisticRegression(multi_class='ovr', solver='lbfgs', max_iter=5000)\n",
    "oneVsAll.fit(X_train, y_train)\n",
    "oneVsAll_time = time.time() - beginning_time\n",
    "\n",
    "oneVsAll_predictions = oneVsAll.predict(X_test)\n",
    "oneVsAll_accuracy = accuracy_score(y_test, oneVsAll_predictions)\n",
    "oneVsAll_f1 = f1_score(y_test, oneVsAll_predictions, average='weighted')\n",
    "oneVsAll_log_loss = log_loss(y_test, oneVsAll.predict_proba(X_test))\n"
   ]
  },
  {
   "cell_type": "markdown",
   "metadata": {},
   "source": [
    "# Print results\n"
   ]
  },
  {
   "cell_type": "code",
   "execution_count": 6,
   "metadata": {},
   "outputs": [
    {
     "name": "stdout",
     "output_type": "stream",
     "text": [
      "Softmax Accuracy: 0.963, Time: 2.3493075370788574 seconds, Log Loss: 0.10771339288105258, F1 Score: 0.9630302185229656\n",
      "One-vs-All Accuracy: 0.961, Time: 1.1832456588745117 seconds, Log Loss: 0.1345972383692102, F1 Score: 0.9610172357351848\n"
     ]
    }
   ],
   "source": [
    "print(f\"Softmax Accuracy: {softmax_accuracy}, Time: {softmax_time} seconds, Log Loss: {softmax_log_loss}, F1 Score: {softmax_f1}\")\n",
    "print(f\"One-vs-All Accuracy: {oneVsAll_accuracy}, Time: {oneVsAll_time} seconds, Log Loss: {oneVsAll_log_loss}, F1 Score: {oneVsAll_f1}\")\n"
   ]
  },
  {
   "cell_type": "markdown",
   "metadata": {},
   "source": [
    "\n",
    "# Confusion Matrix for one vs all\n",
    "\n"
   ]
  },
  {
   "cell_type": "code",
   "execution_count": 7,
   "metadata": {},
   "outputs": [
    {
     "name": "stdout",
     "output_type": "stream",
     "text": [
      "[[1402    2   13    5    5    3    2   10   17    5]\n",
      " [   2 1464    4    1    0    1    0    1    5    7]\n",
      " [  11    1 1370   15   16   15    5    3    1    3]\n",
      " [  14    5   15 1450   12   51    5   10    3    4]\n",
      " [   6    0   13   15 1466    5    4    9    0    1]\n",
      " [   2    3   13   45   12 1437    8   11    2    1]\n",
      " [   5    5    9   17    4    6 1415    0    1    1]\n",
      " [   3    0    4   17    9    7    0 1456    0    1]\n",
      " [  13    2    1    5    1    0    2    0 1480    6]\n",
      " [  12    7    5    6    0    4    2    3    5 1475]]\n"
     ]
    }
   ],
   "source": [
    "oneVsAllMatrix = confusion_matrix(y_test, oneVsAll_predictions)\n",
    "print(oneVsAllMatrix)"
   ]
  },
  {
   "cell_type": "markdown",
   "metadata": {},
   "source": [
    "\n",
    "# Train a specialized model for the hardest-to-distinguish class pair\n"
   ]
  },
  {
   "cell_type": "code",
   "execution_count": 8,
   "metadata": {},
   "outputs": [
    {
     "name": "stdout",
     "output_type": "stream",
     "text": [
      "Specialized Model Accuracy: 0.9622945536577505\n",
      "Specialized Model F1 Score: 0.9622953212524546\n"
     ]
    }
   ],
   "source": [
    "class_pair = (3, 5)\n",
    "class_pair_indices = np.where((y_train == class_pair[0]) | (y_train == class_pair[1]))\n",
    "\n",
    "X_train_pair = X_train[class_pair_indices]\n",
    "y_train_pair = y_train[class_pair_indices]\n",
    "\n",
    "X_test_pair = X_test[np.where((y_test == class_pair[0]) | (y_test == class_pair[1]))]\n",
    "y_test_pair = y_test[np.where((y_test == class_pair[0]) | (y_test == class_pair[1]))]\n",
    "\n",
    "specialized_model = LogisticRegression(solver='lbfgs', max_iter=5000)\n",
    "specialized_model.fit(X_train_pair, y_train_pair)\n",
    "\n",
    "pair_predictions = specialized_model.predict(X_test_pair)\n",
    "pair_accuracy = accuracy_score(y_test_pair, pair_predictions)\n",
    "pair_f1 = f1_score(y_test_pair, pair_predictions, average='weighted')\n",
    "\n",
    "print(f\"Specialized Model Accuracy: {pair_accuracy}\")\n",
    "print(f\"Specialized Model F1 Score: {pair_f1}\")"
   ]
  }
 ],
 "metadata": {
  "kernelspec": {
   "display_name": "Python 3",
   "language": "python",
   "name": "python3"
  },
  "language_info": {
   "codemirror_mode": {
    "name": "ipython",
    "version": 3
   },
   "file_extension": ".py",
   "mimetype": "text/x-python",
   "name": "python",
   "nbconvert_exporter": "python",
   "pygments_lexer": "ipython3",
   "version": "3.11.0"
  }
 },
 "nbformat": 4,
 "nbformat_minor": 2
}
